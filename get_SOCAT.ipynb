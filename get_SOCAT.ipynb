{
 "cells": [
  {
   "cell_type": "markdown",
   "id": "5ee6be62-bf73-4857-86a6-c3205092a52b",
   "metadata": {},
   "source": [
    "# Download SOCAT data "
   ]
  },
  {
   "cell_type": "code",
   "execution_count": null,
   "id": "39b2ed7c-af62-4c2d-ad36-854e4d30c474",
   "metadata": {},
   "outputs": [],
   "source": []
  },
  {
   "cell_type": "markdown",
   "id": "8b1cd7dc-f525-4c5d-b7fa-4f04c83c5557",
   "metadata": {
    "tags": []
   },
   "source": [
    "## Download SOCAT data \n",
    "   \n",
    "   Options:  \n",
    "   Dataset  \n",
    "   - if ERDDAP request  \n",
    "        - Request data dry run - to determine size/time.  Then, \n",
    "        - Request data  \n",
    "        \n",
    "   - if LOCAL file request  \n",
    "        - give local file name  \n",
    "            "
   ]
  },
  {
   "cell_type": "code",
   "execution_count": 3,
   "id": "fac51786-0685-4a3b-8959-0d1a3ae50f16",
   "metadata": {
    "tags": []
   },
   "outputs": [],
   "source": [
    "# GRIDDED FILE REQUEST -  to  SOCAT \n",
    "# - requires griddap (not tabledap) and therefore xarray; not pandas.\n",
    "\n",
    "# SOCAT data from:  \n",
    "# https://erddap.sochic-h2020.eu/erddap/search/index.html?page=1&itemsPerPage=1000&searchFor=socat\n",
    "# or from: \n",
    "# https://erddap.emodnet-physics.eu/erddap/search/index.html?page=1&itemsPerPage=1000&searchFor=socat\n",
    "\n",
    "\n",
    "e = ERDDAP(\n",
    "    server=\"https://erddap.emodnet-physics.eu/erddap/\",\n",
    "    protocol=\"griddap\",\n",
    "    response=\"csv\",\n",
    "    )\n",
    "\n",
    "e.dataset_id = \"SOCATv2021_tracks_gridded_monthly\"\n",
    "\n",
    "e.griddap_initialize()  # intializes e.constraints and e.variables for griddap protocol\n",
    "\n",
    "# then need to change constraints, and choose variables  - see ERDAPpy docs:griddap\n",
    "e.constraints = {\n",
    "    'time>=': dateStart,\n",
    "     'time<=': dateEnd,\n",
    "     'time_step': 1,\n",
    "     'latitude>=': pullLat[0],\n",
    "     'latitude<=': pullLat[1],\n",
    "     'latitude_step': 1,\n",
    "     'longitude>=': pullLon[0],\n",
    "     'longitude<=': pullLon[1],\n",
    "     'longitude_step': 1}\n",
    "\n",
    "# for example - to restrict variabl  \n",
    "# e.variables = e.variables[0:3]\n",
    "\n",
    "#url = e.get_search_url()\n",
    "\n",
    "ds = e.to_xarray()"
   ]
  },
  {
   "cell_type": "code",
   "execution_count": 4,
   "id": "f0b3c520-3113-4f37-b142-fdbde3296fc7",
   "metadata": {
    "tags": []
   },
   "outputs": [],
   "source": [
    "# Test for dataset in ./data/raw\n",
    "# if not dataSet in ./data/raw   (search SOCAT/Gridded/Table or have another gridded data there; or option to give the name? or dialog to choose the file and import it using a prev file name??? \n",
    "# keep a namelist of sorts for default values??)\n",
    "# Make ERDDAP call and download data \n",
    "# use dataset \n"
   ]
  }
 ],
 "metadata": {
  "kernelspec": {
   "display_name": "Python 3",
   "language": "python",
   "name": "python3"
  },
  "language_info": {
   "codemirror_mode": {
    "name": "ipython",
    "version": 3
   },
   "file_extension": ".py",
   "mimetype": "text/x-python",
   "name": "python",
   "nbconvert_exporter": "python",
   "pygments_lexer": "ipython3",
   "version": "3.8.8"
  }
 },
 "nbformat": 4,
 "nbformat_minor": 5
}
