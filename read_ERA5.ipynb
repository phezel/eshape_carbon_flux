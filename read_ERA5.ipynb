{
 "cells": [
  {
   "cell_type": "markdown",
   "id": "4b6e945c-bd12-4643-a303-39e6aac9bdf7",
   "metadata": {},
   "source": [
    "## To read ERA5 into xarray dataset\n",
    "\n",
    "Data must be downloaded for appropriate time period.  \n",
    "Modify and run download_ERA5.ipynb"
   ]
  },
  {
   "cell_type": "code",
   "execution_count": 3,
   "id": "03a42db9-f8fa-4074-9d76-b7c6b55d592c",
   "metadata": {},
   "outputs": [
    {
     "name": "stdout",
     "output_type": "stream",
     "text": [
      "Stored 'dsERA5' (Dataset)\n"
     ]
    }
   ],
   "source": [
    "import os \n",
    "import xarray as xr\n",
    "from path import Path\n",
    "\n",
    "fname = \"download_era5_monthly_1979_2020.nc\"\n",
    "rawDir = './data/raw'\n",
    "era5File  = Path(os.path.join(rawDir,fname))\n",
    "\n",
    "ds = xr.open_dataset(era5File)\n",
    "\n",
    "ds.assign_attrs({'datasetName': 'era5'})\n",
    "\n",
    "dsERA5 = ds\n",
    "%store dsERA5\n"
   ]
  }
 ],
 "metadata": {
  "kernelspec": {
   "display_name": "Python 3",
   "language": "python",
   "name": "python3"
  },
  "language_info": {
   "codemirror_mode": {
    "name": "ipython",
    "version": 3
   },
   "file_extension": ".py",
   "mimetype": "text/x-python",
   "name": "python",
   "nbconvert_exporter": "python",
   "pygments_lexer": "ipython3",
   "version": "3.8.8"
  }
 },
 "nbformat": 4,
 "nbformat_minor": 5
}
